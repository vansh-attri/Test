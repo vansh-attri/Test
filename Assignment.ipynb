{
 "cells": [
  {
   "cell_type": "code",
   "execution_count": 1,
   "id": "d9db28b6-6d22-47b1-a330-9550bad152dc",
   "metadata": {},
   "outputs": [
    {
     "name": "stdin",
     "output_type": "stream",
     "text": [
      "Enter a number x: 20\n",
      "Enter a number y: 3\n"
     ]
    },
    {
     "name": "stdout",
     "output_type": "stream",
     "text": [
      "13\n"
     ]
    }
   ],
   "source": [
    "# assignment Q1. Accept two positive integers x and y as input through keyboard and print the number of digits in x^y+2x^3y\n",
    "x = int(input(\"Enter a number x:\"))\n",
    "y = int(input(\"Enter a number y:\"))\n",
    "x_power_y = x**y\n",
    "x_power_3y = x**(3*y)\n",
    "final_result = x_power_y + 2*(x_power_3y)\n",
    "print(len(str(final_result)))"
   ]
  },
  {
   "cell_type": "code",
   "execution_count": 3,
   "id": "681fc50c-18f9-447e-9500-ebc04b011b70",
   "metadata": {},
   "outputs": [
    {
     "name": "stdin",
     "output_type": "stream",
     "text": [
      "Enter a number x: 20\n",
      "Enter a number y: 10\n"
     ]
    },
    {
     "name": "stdout",
     "output_type": "stream",
     "text": [
      "10\n",
      "20\n"
     ]
    }
   ],
   "source": [
    "# assignment Q2. i.) part a. swapping two number without using third variable using assignment\n",
    "x = int(input(\"Enter a number x:\"))\n",
    "y = int(input(\"Enter a number y:\"))\n",
    "x,y = y,x\n",
    "print(x)\n",
    "print(y)"
   ]
  },
  {
   "cell_type": "code",
   "execution_count": 5,
   "id": "79973cb4-7836-4689-9938-fbd890136da0",
   "metadata": {},
   "outputs": [
    {
     "name": "stdin",
     "output_type": "stream",
     "text": [
      "Enter a number x: 30\n",
      "Enter a number y: 19\n"
     ]
    },
    {
     "name": "stdout",
     "output_type": "stream",
     "text": [
      "19\n",
      "30\n"
     ]
    }
   ],
   "source": [
    "# assignment Q2. i.) part b. swapping two number without using third variable using arithmetic\n",
    "x = int(input(\"Enter a number x:\"))\n",
    "y = int(input(\"Enter a number y:\"))\n",
    "x = x+y\n",
    "y = x-y\n",
    "x = x-y\n",
    "print (x)\n",
    "print (y)"
   ]
  },
  {
   "cell_type": "code",
   "execution_count": 7,
   "id": "9f01f1a1-9f52-4bbb-8d61-5af37fb560d2",
   "metadata": {},
   "outputs": [
    {
     "name": "stdin",
     "output_type": "stream",
     "text": [
      "Enter a number x: 13\n",
      "Enter a number y: 43\n"
     ]
    },
    {
     "name": "stdout",
     "output_type": "stream",
     "text": [
      "43\n",
      "13\n"
     ]
    }
   ],
   "source": [
    "# assignment Q2. ii.) swapping two number using third variable \n",
    "x = int(input(\"Enter a number x:\"))\n",
    "y = int(input(\"Enter a number y:\"))\n",
    "z=x\n",
    "x=y\n",
    "y=z\n",
    "print(x)\n",
    "print(y)"
   ]
  },
  {
   "cell_type": "code",
   "execution_count": null,
   "id": "cf3dc375-50d0-443c-9b36-4f846df92d01",
   "metadata": {},
   "outputs": [],
   "source": []
  }
 ],
 "metadata": {
  "kernelspec": {
   "display_name": "Python 3 (ipykernel)",
   "language": "python",
   "name": "python3"
  },
  "language_info": {
   "codemirror_mode": {
    "name": "ipython",
    "version": 3
   },
   "file_extension": ".py",
   "mimetype": "text/x-python",
   "name": "python",
   "nbconvert_exporter": "python",
   "pygments_lexer": "ipython3",
   "version": "3.12.4"
  }
 },
 "nbformat": 4,
 "nbformat_minor": 5
}
